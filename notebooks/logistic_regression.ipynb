{
 "cells": [
  {
   "cell_type": "code",
   "execution_count": 17,
   "id": "48bbe8f8",
   "metadata": {},
   "outputs": [
    {
     "name": "stdout",
     "output_type": "stream",
     "text": [
      "         id diagnosis  radius_mean  texture_mean  perimeter_mean  area_mean  \\\n",
      "0    842302         M        17.99         10.38          122.80     1001.0   \n",
      "1    842517         M        20.57         17.77          132.90     1326.0   \n",
      "2  84300903         M        19.69         21.25          130.00     1203.0   \n",
      "3  84348301         M        11.42         20.38           77.58      386.1   \n",
      "4  84358402         M        20.29         14.34          135.10     1297.0   \n",
      "\n",
      "   smoothness_mean  compactness_mean  concavity_mean  concave points_mean  \\\n",
      "0          0.11840           0.27760          0.3001              0.14710   \n",
      "1          0.08474           0.07864          0.0869              0.07017   \n",
      "2          0.10960           0.15990          0.1974              0.12790   \n",
      "3          0.14250           0.28390          0.2414              0.10520   \n",
      "4          0.10030           0.13280          0.1980              0.10430   \n",
      "\n",
      "   ...  texture_worst  perimeter_worst  area_worst  smoothness_worst  \\\n",
      "0  ...          17.33           184.60      2019.0            0.1622   \n",
      "1  ...          23.41           158.80      1956.0            0.1238   \n",
      "2  ...          25.53           152.50      1709.0            0.1444   \n",
      "3  ...          26.50            98.87       567.7            0.2098   \n",
      "4  ...          16.67           152.20      1575.0            0.1374   \n",
      "\n",
      "   compactness_worst  concavity_worst  concave points_worst  symmetry_worst  \\\n",
      "0             0.6656           0.7119                0.2654          0.4601   \n",
      "1             0.1866           0.2416                0.1860          0.2750   \n",
      "2             0.4245           0.4504                0.2430          0.3613   \n",
      "3             0.8663           0.6869                0.2575          0.6638   \n",
      "4             0.2050           0.4000                0.1625          0.2364   \n",
      "\n",
      "   fractal_dimension_worst  Unnamed: 32  \n",
      "0                  0.11890          NaN  \n",
      "1                  0.08902          NaN  \n",
      "2                  0.08758          NaN  \n",
      "3                  0.17300          NaN  \n",
      "4                  0.07678          NaN  \n",
      "\n",
      "[5 rows x 33 columns]\n"
     ]
    }
   ],
   "source": [
    "import pandas as pd\n",
    "\n",
    "# Step 0.1: Load dataset\n",
    "df = pd.read_csv('../datasets/breast_cancer_wisconsin_dataset.csv')\n",
    "\n",
    "# Check basic info\n",
    "print(df.head())\n"
   ]
  },
  {
   "cell_type": "code",
   "execution_count": 18,
   "id": "5a987576",
   "metadata": {},
   "outputs": [
    {
     "name": "stdout",
     "output_type": "stream",
     "text": [
      "  diagnosis  radius_mean  texture_mean  perimeter_mean  area_mean  \\\n",
      "0         M        17.99         10.38          122.80     1001.0   \n",
      "1         M        20.57         17.77          132.90     1326.0   \n",
      "2         M        19.69         21.25          130.00     1203.0   \n",
      "3         M        11.42         20.38           77.58      386.1   \n",
      "4         M        20.29         14.34          135.10     1297.0   \n",
      "\n",
      "   smoothness_mean  compactness_mean  concavity_mean  concave points_mean  \\\n",
      "0          0.11840           0.27760          0.3001              0.14710   \n",
      "1          0.08474           0.07864          0.0869              0.07017   \n",
      "2          0.10960           0.15990          0.1974              0.12790   \n",
      "3          0.14250           0.28390          0.2414              0.10520   \n",
      "4          0.10030           0.13280          0.1980              0.10430   \n",
      "\n",
      "   symmetry_mean  ...  texture_worst  perimeter_worst  area_worst  \\\n",
      "0         0.2419  ...          17.33           184.60      2019.0   \n",
      "1         0.1812  ...          23.41           158.80      1956.0   \n",
      "2         0.2069  ...          25.53           152.50      1709.0   \n",
      "3         0.2597  ...          26.50            98.87       567.7   \n",
      "4         0.1809  ...          16.67           152.20      1575.0   \n",
      "\n",
      "   smoothness_worst  compactness_worst  concavity_worst  concave points_worst  \\\n",
      "0            0.1622             0.6656           0.7119                0.2654   \n",
      "1            0.1238             0.1866           0.2416                0.1860   \n",
      "2            0.1444             0.4245           0.4504                0.2430   \n",
      "3            0.2098             0.8663           0.6869                0.2575   \n",
      "4            0.1374             0.2050           0.4000                0.1625   \n",
      "\n",
      "   symmetry_worst  fractal_dimension_worst  Unnamed: 32  \n",
      "0          0.4601                  0.11890          NaN  \n",
      "1          0.2750                  0.08902          NaN  \n",
      "2          0.3613                  0.08758          NaN  \n",
      "3          0.6638                  0.17300          NaN  \n",
      "4          0.2364                  0.07678          NaN  \n",
      "\n",
      "[5 rows x 32 columns]\n"
     ]
    }
   ],
   "source": [
    "# Step 0.2: Drop the 'id' column\n",
    "df = df.drop(columns=['id'])\n",
    "\n",
    "# Optional: Check again\n",
    "print(df.head())\n"
   ]
  },
  {
   "cell_type": "code",
   "execution_count": 19,
   "id": "7c5022e3",
   "metadata": {},
   "outputs": [
    {
     "name": "stdout",
     "output_type": "stream",
     "text": [
      "diagnosis\n",
      "0    357\n",
      "1    212\n",
      "Name: count, dtype: int64\n"
     ]
    }
   ],
   "source": [
    "# Step 0.3: Map 'diagnosis' column\n",
    "df['diagnosis'] = df['diagnosis'].map({'M': 1, 'B': 0})\n",
    "\n",
    "# Optional: Check again\n",
    "print(df['diagnosis'].value_counts())\n"
   ]
  },
  {
   "cell_type": "code",
   "execution_count": 20,
   "id": "05a348ce",
   "metadata": {},
   "outputs": [
    {
     "name": "stdout",
     "output_type": "stream",
     "text": [
      "Index(['diagnosis', 'radius_mean', 'texture_mean', 'perimeter_mean',\n",
      "       'area_mean', 'smoothness_mean', 'compactness_mean', 'concavity_mean',\n",
      "       'concave points_mean', 'symmetry_mean', 'fractal_dimension_mean',\n",
      "       'radius_se', 'texture_se', 'perimeter_se', 'area_se', 'smoothness_se',\n",
      "       'compactness_se', 'concavity_se', 'concave points_se', 'symmetry_se',\n",
      "       'fractal_dimension_se', 'radius_worst', 'texture_worst',\n",
      "       'perimeter_worst', 'area_worst', 'smoothness_worst',\n",
      "       'compactness_worst', 'concavity_worst', 'concave points_worst',\n",
      "       'symmetry_worst', 'fractal_dimension_worst', 'Unnamed: 32'],\n",
      "      dtype='object')\n",
      "(569, 31)\n",
      "Index(['diagnosis', 'radius_mean', 'texture_mean', 'perimeter_mean',\n",
      "       'area_mean', 'smoothness_mean', 'compactness_mean', 'concavity_mean',\n",
      "       'concave points_mean', 'symmetry_mean', 'fractal_dimension_mean',\n",
      "       'radius_se', 'texture_se', 'perimeter_se', 'area_se', 'smoothness_se',\n",
      "       'compactness_se', 'concavity_se', 'concave points_se', 'symmetry_se',\n",
      "       'fractal_dimension_se', 'radius_worst', 'texture_worst',\n",
      "       'perimeter_worst', 'area_worst', 'smoothness_worst',\n",
      "       'compactness_worst', 'concavity_worst', 'concave points_worst',\n",
      "       'symmetry_worst', 'fractal_dimension_worst'],\n",
      "      dtype='object')\n",
      "X shape: (569, 30)\n",
      "y shape: (569,)\n"
     ]
    }
   ],
   "source": [
    "# Check the column names\n",
    "print(df.columns)\n",
    "\n",
    "# Drop any column with all NaN values\n",
    "df = df.dropna(axis=1, how='all')\n",
    "\n",
    "# Verify the dataframe shape and columns again\n",
    "print(df.shape)\n",
    "print(df.columns)\n",
    "\n",
    "# Now proceed with splitting X and y\n",
    "X = df.drop(columns=['diagnosis']).values\n",
    "y = df['diagnosis'].values\n",
    "\n",
    "# Check shapes again\n",
    "print(\"X shape:\", X.shape)\n",
    "print(\"y shape:\", y.shape)\n"
   ]
  },
  {
   "cell_type": "code",
   "execution_count": 21,
   "id": "f619119d",
   "metadata": {},
   "outputs": [],
   "source": [
    "import sys\n",
    "import os\n",
    "\n",
    "# Add the parent directory (project root) to the path\n",
    "sys.path.append(os.path.abspath(os.path.join(os.getcwd(), '..')))"
   ]
  },
  {
   "cell_type": "code",
   "execution_count": 22,
   "id": "150eb71f",
   "metadata": {},
   "outputs": [
    {
     "name": "stdout",
     "output_type": "stream",
     "text": [
      "First 5 rows of scaled X:\n",
      " [[ 1.09706398e+00 -2.07333501e+00  1.26993369e+00  9.84374905e-01\n",
      "   1.56846633e+00  3.28351467e+00  2.65287398e+00  2.53247522e+00\n",
      "   2.21751501e+00  2.25574689e+00  2.48973393e+00 -5.65265059e-01\n",
      "   2.83303087e+00  2.48757756e+00 -2.14001647e-01  1.31686157e+00\n",
      "   7.24026158e-01  6.60819941e-01  1.14875667e+00  9.07083081e-01\n",
      "   1.88668963e+00 -1.35929347e+00  2.30360062e+00  2.00123749e+00\n",
      "   1.30768627e+00  2.61666502e+00  2.10952635e+00  2.29607613e+00\n",
      "   2.75062224e+00  1.93701461e+00]\n",
      " [ 1.82982061e+00 -3.53632408e-01  1.68595471e+00  1.90870825e+00\n",
      "  -8.26962447e-01 -4.87071673e-01 -2.38458552e-02  5.48144156e-01\n",
      "   1.39236330e-03 -8.68652457e-01  4.99254601e-01 -8.76243603e-01\n",
      "   2.63326966e-01  7.42401948e-01 -6.05350847e-01 -6.92926270e-01\n",
      "  -4.40780058e-01  2.60162067e-01 -8.05450380e-01 -9.94437403e-02\n",
      "   1.80592744e+00 -3.69203222e-01  1.53512599e+00  1.89048899e+00\n",
      "  -3.75611957e-01 -4.30444219e-01 -1.46748968e-01  1.08708430e+00\n",
      "  -2.43889668e-01  2.81189987e-01]\n",
      " [ 1.57988811e+00  4.56186952e-01  1.56650313e+00  1.55888363e+00\n",
      "   9.42210440e-01  1.05292554e+00  1.36347845e+00  2.03723076e+00\n",
      "   9.39684817e-01 -3.98007910e-01  1.22867595e+00 -7.80083377e-01\n",
      "   8.50928301e-01  1.18133606e+00 -2.97005012e-01  8.14973504e-01\n",
      "   2.13076435e-01  1.42482747e+00  2.37035535e-01  2.93559404e-01\n",
      "   1.51187025e+00 -2.39743838e-02  1.34747521e+00  1.45628455e+00\n",
      "   5.27407405e-01  1.08293217e+00  8.54973944e-01  1.95500035e+00\n",
      "   1.15225500e+00  2.01391209e-01]\n",
      " [-7.68909287e-01  2.53732112e-01 -5.92687167e-01 -7.64463792e-01\n",
      "   3.28355348e+00  3.40290899e+00  1.91589718e+00  1.45170736e+00\n",
      "   2.86738293e+00  4.91091929e+00  3.26373441e-01 -1.10409044e-01\n",
      "   2.86593405e-01 -2.88378148e-01  6.89701660e-01  2.74428041e+00\n",
      "   8.19518384e-01  1.11500701e+00  4.73268037e+00  2.04751088e+00\n",
      "  -2.81464464e-01  1.33984094e-01 -2.49939304e-01 -5.50021228e-01\n",
      "   3.39427470e+00  3.89339743e+00  1.98958826e+00  2.17578601e+00\n",
      "   6.04604135e+00  4.93501034e+00]\n",
      " [ 1.75029663e+00 -1.15181643e+00  1.77657315e+00  1.82622928e+00\n",
      "   2.80371830e-01  5.39340452e-01  1.37101143e+00  1.42849277e+00\n",
      "  -9.56046689e-03 -5.62449981e-01  1.27054278e+00 -7.90243702e-01\n",
      "   1.27318941e+00  1.19035676e+00  1.48306716e+00 -4.85198799e-02\n",
      "   8.28470780e-01  1.14420474e+00 -3.61092272e-01  4.99328134e-01\n",
      "   1.29857524e+00 -1.46677038e+00  1.33853946e+00  1.22072425e+00\n",
      "   2.20556166e-01 -3.13394511e-01  6.13178758e-01  7.29259257e-01\n",
      "  -8.68352984e-01 -3.97099619e-01]]\n"
     ]
    }
   ],
   "source": [
    "from utils.scaler import StandardScaler\n",
    "\n",
    "# Initialize the scaler\n",
    "scaler = StandardScaler()\n",
    "\n",
    "# Fit and transform the features\n",
    "X_scaled = scaler.fit_transform(X)\n",
    "\n",
    "# Check the scaled data\n",
    "print(\"First 5 rows of scaled X:\\n\", X_scaled[:5])\n"
   ]
  },
  {
   "cell_type": "code",
   "execution_count": 23,
   "id": "413470eb",
   "metadata": {},
   "outputs": [
    {
     "name": "stdout",
     "output_type": "stream",
     "text": [
      "X_train shape: (456, 30), X_test shape: (113, 30)\n",
      "y_train shape: (456,), y_test shape: (113,)\n"
     ]
    }
   ],
   "source": [
    "from utils.utils import train_test_split_custom\n",
    "\n",
    "# Split the data into 80% training and 20% testing\n",
    "X_train, X_test, y_train, y_test = train_test_split_custom(X, y, test_size=0.2)\n",
    "\n",
    "print(f\"X_train shape: {X_train.shape}, X_test shape: {X_test.shape}\")\n",
    "print(f\"y_train shape: {y_train.shape}, y_test shape: {y_test.shape}\")"
   ]
  },
  {
   "cell_type": "code",
   "execution_count": 24,
   "id": "8731f751",
   "metadata": {},
   "outputs": [
    {
     "name": "stdout",
     "output_type": "stream",
     "text": [
      "Initial weights: [0. 0. 0. 0. 0. 0. 0. 0. 0. 0. 0. 0. 0. 0. 0. 0. 0. 0. 0. 0. 0. 0. 0. 0.\n",
      " 0. 0. 0. 0. 0. 0.], Initial bias: 0\n",
      "Epoch 0 | Cost: 0.6911\n",
      "Epoch 100 | Cost: 0.5378\n",
      "Epoch 200 | Cost: 0.4502\n",
      "Epoch 300 | Cost: 0.3937\n",
      "Epoch 400 | Cost: 0.3540\n",
      "Epoch 500 | Cost: 0.3243\n",
      "Epoch 600 | Cost: 0.3011\n",
      "Epoch 700 | Cost: 0.2823\n",
      "Epoch 800 | Cost: 0.2667\n",
      "Epoch 900 | Cost: 0.2536\n",
      "Epoch 1000 | Cost: 0.2423\n",
      "Epoch 1100 | Cost: 0.2324\n",
      "Epoch 1200 | Cost: 0.2237\n",
      "Epoch 1300 | Cost: 0.2160\n",
      "Epoch 1400 | Cost: 0.2090\n",
      "Epoch 1500 | Cost: 0.2028\n",
      "Epoch 1600 | Cost: 0.1971\n",
      "Epoch 1700 | Cost: 0.1919\n",
      "Epoch 1800 | Cost: 0.1871\n",
      "Epoch 1900 | Cost: 0.1827\n"
     ]
    },
    {
     "data": {
      "image/png": "[encoded data removed]",
      "text/plain": [
       "<Figure size 640x480 with 1 Axes>"
      ]
     },
     "metadata": {},
     "output_type": "display_data"
    },
    {
     "name": "stdout",
     "output_type": "stream",
     "text": [
      "Test Accuracy: 94.69%\n",
      "Precision: 0.9545\n",
      "Recall: 0.9130\n",
      "F1-Score: 0.9333\n",
      "Confusion Matrix:\n",
      "[[65  2]\n",
      " [ 4 42]]\n"
     ]
    },
    {
     "data": {
      "image/png": "[encoded data removed]",
      "text/plain": [
       "<Figure size 600x600 with 2 Axes>"
      ]
     },
     "metadata": {},
     "output_type": "display_data"
    }
   ],
   "source": [
    "import importlib\n",
    "import ml_algorithms.logistic_regression\n",
    "importlib.reload(ml_algorithms.logistic_regression)\n",
    "\n",
    "from ml_algorithms.logistic_regression import LogisticRegression\n",
    "from utils.metrics import PrecisionScore, RecallScore, F1Score, ConfusionMatrix\n",
    "\n",
    "# Initialize the model\n",
    "model = LogisticRegression(learning_rate=0.001, epochs=2000, lambda_=0.01)\n",
    "model.fit(X_train, y_train)\n",
    "\n",
    "acc = model.accuracy(X_test, y_test)\n",
    "print(f\"Test Accuracy: {acc * 100:.2f}%\")\n",
    "\n",
    "y_pred = model.predict(X_test)\n",
    "\n",
    "precision_class = PrecisionScore()\n",
    "recall_class = RecallScore()\n",
    "f1_class = F1Score()\n",
    "\n",
    "# Compute the metrics\n",
    "precision = precision_class.compute(y_test, y_pred)\n",
    "recall = recall_class.compute(y_test, y_pred)\n",
    "f1 = f1_class.compute(precision, recall)\n",
    "\n",
    "# Print the results\n",
    "print(f\"Precision: {precision:.4f}\")\n",
    "print(f\"Recall: {recall:.4f}\")\n",
    "print(f\"F1-Score: {f1:.4f}\")\n",
    "\n",
    "cm_class = ConfusionMatrix(num_classes=2)\n",
    "\n",
    "# Compute confusion matrix\n",
    "cm = cm_class.compute(y_test, y_pred)\n",
    "\n",
    "# Print confusion matrix\n",
    "print(f\"Confusion Matrix:\\n{cm}\")\n",
    "\n",
    "# Plot confusion matrix\n",
    "cm_class.plot()"
   ]
  }
 ],
 "metadata": {
  "kernelspec": {
   "display_name": "global-suicide-eda",
   "language": "python",
   "name": "python3"
  },
  "language_info": {
   "codemirror_mode": {
    "name": "ipython",
    "version": 3
   },
   "file_extension": ".py",
   "mimetype": "text/x-python",
   "name": "python",
   "nbconvert_exporter": "python",
   "pygments_lexer": "ipython3",
   "version": "3.12.9"
  }
 },
 "nbformat": 4,
 "nbformat_minor": 5
}
