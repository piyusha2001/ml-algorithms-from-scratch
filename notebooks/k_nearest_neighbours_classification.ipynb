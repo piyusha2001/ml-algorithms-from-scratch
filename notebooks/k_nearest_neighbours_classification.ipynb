{
 "cells": [
  {
   "cell_type": "code",
   "execution_count": 9,
   "id": "3336d542",
   "metadata": {},
   "outputs": [
    {
     "name": "stdout",
     "output_type": "stream",
     "text": [
      "   sepal_length  sepal_width  petal_length  petal_width      species\n",
      "0           4.9          3.0           1.4          0.2  Iris-setosa\n",
      "1           4.7          3.2           1.3          0.2  Iris-setosa\n",
      "2           4.6          3.1           1.5          0.2  Iris-setosa\n",
      "3           5.0          3.6           1.4          0.2  Iris-setosa\n",
      "4           5.4          3.9           1.7          0.4  Iris-setosa\n"
     ]
    }
   ],
   "source": [
    "import pandas as pd\n",
    "\n",
    "# Step 1: Load the CSV and skip the first row (which contains column names)\n",
    "df = pd.read_csv('../datasets/iris.csv', skiprows=1)\n",
    "\n",
    "# Step 2: Rename the columns properly\n",
    "df.columns = ['Id', 'sepal_length', 'sepal_width', 'petal_length', 'petal_width', 'species']\n",
    "\n",
    "# Step 3: Drop the Id column (not useful for classification)\n",
    "df = df.drop('Id', axis=1)\n",
    "\n",
    "# Step 4: Print first few rows to confirm\n",
    "print(df.head())\n"
   ]
  },
  {
   "cell_type": "code",
   "execution_count": 10,
   "id": "3c8c6d3e",
   "metadata": {},
   "outputs": [
    {
     "name": "stdout",
     "output_type": "stream",
     "text": [
      "Feature sample: [[4.9 3.  1.4 0.2]\n",
      " [4.7 3.2 1.3 0.2]\n",
      " [4.6 3.1 1.5 0.2]\n",
      " [5.  3.6 1.4 0.2]\n",
      " [5.4 3.9 1.7 0.4]]\n",
      "Label sample: [0 0 0 0 0]\n"
     ]
    }
   ],
   "source": [
    "# Step 5: Encode species labels into numbers\n",
    "df['species'] = df['species'].astype('category').cat.codes\n",
    "\n",
    "# Step 6: Split features and labels\n",
    "X = df.drop('species', axis=1).values  # shape: (150, 4)\n",
    "y = df['species'].values               # shape: (150,)\n",
    "\n",
    "# Step 7: Print to check\n",
    "print(\"Feature sample:\", X[:5])\n",
    "print(\"Label sample:\", y[:5])\n"
   ]
  },
  {
   "cell_type": "code",
   "execution_count": 11,
   "id": "96bb3c59",
   "metadata": {},
   "outputs": [],
   "source": [
    "import sys\n",
    "import os\n",
    "\n",
    "# Add the parent directory (project root) to the path\n",
    "sys.path.append(os.path.abspath(os.path.join(os.getcwd(), '..')))"
   ]
  },
  {
   "cell_type": "code",
   "execution_count": 12,
   "id": "aeaee6d1",
   "metadata": {},
   "outputs": [
    {
     "name": "stdout",
     "output_type": "stream",
     "text": [
      "Scaled feature sample: [[-1.1483555  -0.11805969 -1.35396443 -1.32506301]\n",
      " [-1.3905423   0.34485856 -1.41098555 -1.32506301]\n",
      " [-1.51163569  0.11339944 -1.29694332 -1.32506301]\n",
      " [-1.02726211  1.27069504 -1.35396443 -1.32506301]\n",
      " [-0.54288852  1.9650724  -1.18290109 -1.0614657 ]]\n"
     ]
    }
   ],
   "source": [
    "from utils.scaler import StandardScaler\n",
    "\n",
    "# Initialize the scaler\n",
    "scaler = StandardScaler()\n",
    "\n",
    "# Fit the scaler to the feature data and transform it\n",
    "X_scaled = scaler.fit_transform(X)\n",
    "\n",
    "# Print a few rows to check if the scaling worked\n",
    "print(\"Scaled feature sample:\", X_scaled[:5])\n"
   ]
  },
  {
   "cell_type": "code",
   "execution_count": 13,
   "id": "edd05094",
   "metadata": {},
   "outputs": [
    {
     "name": "stdout",
     "output_type": "stream",
     "text": [
      "Training set size: 120\n",
      "Test set size: 29\n"
     ]
    }
   ],
   "source": [
    "from utils.utils import train_test_split_custom\n",
    "\n",
    "# Split the data using your custom function (80% train, 20% test)\n",
    "X_train, X_test, y_train, y_test = train_test_split_custom(X_scaled, y, test_size=0.2, random_seed=42)\n",
    "\n",
    "print(f\"Training set size: {X_train.shape[0]}\")\n",
    "print(f\"Test set size: {X_test.shape[0]}\")\n"
   ]
  },
  {
   "cell_type": "code",
   "execution_count": 14,
   "id": "66ce0b84",
   "metadata": {},
   "outputs": [
    {
     "name": "stdout",
     "output_type": "stream",
     "text": [
      "Predictions: [0 1 1 0 1 2 2 0 1 2 2 0 2 0 1 2 2 2 2 1 1 2 2 0 2 2 0 1 2]\n",
      "Accuracy on test set: 96.55%\n"
     ]
    }
   ],
   "source": [
    "import importlib\n",
    "import ml_algorithms.k_nearest_neighbours_classification\n",
    "importlib.reload(ml_algorithms.k_nearest_neighbours_classification)\n",
    "from ml_algorithms.k_nearest_neighbours_classification import KNN\n",
    "\n",
    "knn = KNN(k=3)  # You can change k to any value you like\n",
    "knn.fit(X_train, y_train)\n",
    "y_pred = knn.predict(X_test)\n",
    "print(\"Predictions:\", y_pred)\n",
    "accuracy = knn.accuracy(X_test, y_test)\n",
    "print(f\"Accuracy on test set: {accuracy:.2f}%\")\n"
   ]
  },
  {
   "cell_type": "code",
   "execution_count": 15,
   "id": "9b88dfc6",
   "metadata": {},
   "outputs": [
    {
     "name": "stdout",
     "output_type": "stream",
     "text": [
      "Precision: 1.00\n",
      "Recall: 1.00\n",
      "F1 Score: 1.00\n",
      "Confusion Matrix:\n",
      "[[ 7  0  0]\n",
      " [ 0  8  1]\n",
      " [ 0  0 13]]\n"
     ]
    },
    {
     "data": {
      "image/png": "[encoded data removed]",
      "text/plain": [
       "<Figure size 600x600 with 2 Axes>"
      ]
     },
     "metadata": {},
     "output_type": "display_data"
    }
   ],
   "source": [
    "from utils.metrics import PrecisionScore, RecallScore, F1Score, ConfusionMatrix\n",
    "\n",
    "# Step 1: Initialize your custom evaluation classes\n",
    "precision_score = PrecisionScore()\n",
    "recall_score = RecallScore()\n",
    "f1_score = F1Score()\n",
    "confusion_matrix = ConfusionMatrix(num_classes=3)\n",
    "\n",
    "# Step 2: Compute precision, recall, and F1 score\n",
    "precision = precision_score.compute(y_test, y_pred)\n",
    "recall = recall_score.compute(y_test, y_pred)\n",
    "f1 = f1_score.compute(precision, recall)\n",
    "\n",
    "# Step 3: Print the scores\n",
    "print(f\"Precision: {precision:.2f}\")\n",
    "print(f\"Recall: {recall:.2f}\")\n",
    "print(f\"F1 Score: {f1:.2f}\")\n",
    "\n",
    "# Compute confusion matrix using true and predicted values\n",
    "cm = confusion_matrix.compute(y_test, y_pred)\n",
    "\n",
    "# Print the confusion matrix\n",
    "print(f\"Confusion Matrix:\\n{cm}\")\n",
    "\n",
    "# Plot the confusion matrix\n",
    "confusion_matrix.plot()\n",
    "\n"
   ]
  },
  {
   "cell_type": "markdown",
   "id": "e0b11f67",
   "metadata": {},
   "source": [
    "## With K Fold Cross Validation "
   ]
  },
  {
   "cell_type": "markdown",
   "id": "b7ce757c",
   "metadata": {},
   "source": []
  },
  {
   "cell_type": "code",
   "execution_count": 16,
   "id": "f124bdf6",
   "metadata": {},
   "outputs": [
    {
     "name": "stdout",
     "output_type": "stream",
     "text": [
      "Average accuracy across 5 folds: 93.52%\n",
      "Average Precision: 0.98\n",
      "Average Recall: 1.00\n",
      "Average F1 Score: 0.99\n",
      "Confusion Matrix for Fold 1:\n",
      "[[ 5  0  0]\n",
      " [ 0 15  2]\n",
      " [ 0  0  7]]\n",
      "Confusion Matrix for Fold 2:\n",
      "[[ 7  1  0]\n",
      " [ 0 10  0]\n",
      " [ 0  3  8]]\n",
      "Confusion Matrix for Fold 3:\n",
      "[[14  0  0]\n",
      " [ 0  5  0]\n",
      " [ 0  1  9]]\n",
      "Confusion Matrix for Fold 4:\n",
      "[[10  0  0]\n",
      " [ 0 12  0]\n",
      " [ 0  0  7]]\n",
      "Confusion Matrix for Fold 5:\n",
      "[[12  0  0]\n",
      " [ 0  6  0]\n",
      " [ 0  1 14]]\n"
     ]
    }
   ],
   "source": [
    "# Import KFoldCrossValidation class\n",
    "from utils.k_fold_cross_validation import KFoldCrossValidation\n",
    "from ml_algorithms.k_nearest_neighbours_classification import KNN\n",
    "from utils.metrics import PrecisionScore, RecallScore, F1Score, ConfusionMatrix\n",
    "import numpy as np\n",
    "\n",
    "# Initialize KFoldCrossValidation and KNN\n",
    "kf = KFoldCrossValidation(k_folds=5)\n",
    "knn = KNN(k=3)  # You can change k to any value you like\n",
    "\n",
    "# Initialize metric evaluation classes\n",
    "precision_score = PrecisionScore()\n",
    "recall_score = RecallScore()\n",
    "f1_score = F1Score()\n",
    "confusion_matrix = ConfusionMatrix(num_classes=3)  # Assuming 3 classes (adjust if necessary)\n",
    "\n",
    "# Perform K-Fold Cross Validation\n",
    "avg_accuracy = kf.cross_validate(X_scaled, y, knn)\n",
    "print(f\"Average accuracy across {kf.k_folds} folds: {avg_accuracy * 100:.2f}%\")\n",
    "\n",
    "# If you want to evaluate other metrics like precision, recall, and F1 score for each fold:\n",
    "precision_scores = []\n",
    "recall_scores = []\n",
    "f1_scores = []\n",
    "confusion_matrices = []\n",
    "\n",
    "for fold in kf.split(X_scaled, y):\n",
    "    X_train, y_train, X_val, y_val = fold\n",
    "    knn.fit(X_train, y_train)\n",
    "    y_pred = knn.predict(X_val)\n",
    "    \n",
    "    # Evaluate metrics for each fold\n",
    "    precision = precision_score.compute(y_val, y_pred)\n",
    "    recall = recall_score.compute(y_val, y_pred)\n",
    "    f1 = f1_score.compute(precision, recall)\n",
    "    cm = confusion_matrix.compute(y_val, y_pred)\n",
    "    \n",
    "    # Append metrics for averaging later\n",
    "    precision_scores.append(precision)\n",
    "    recall_scores.append(recall)\n",
    "    f1_scores.append(f1)\n",
    "    confusion_matrices.append(cm)\n",
    "\n",
    "# Print average precision, recall, and F1 score across folds\n",
    "print(f\"Average Precision: {np.mean(precision_scores):.2f}\")\n",
    "print(f\"Average Recall: {np.mean(recall_scores):.2f}\")\n",
    "print(f\"Average F1 Score: {np.mean(f1_scores):.2f}\")\n",
    "\n",
    "# Optionally, plot the confusion matrices for each fold (you can select a specific fold or summarize)\n",
    "for i, cm in enumerate(confusion_matrices):\n",
    "    print(f\"Confusion Matrix for Fold {i + 1}:\\n{cm}\")\n",
    "\n"
   ]
  }
 ],
 "metadata": {
  "kernelspec": {
   "display_name": "global-suicide-eda",
   "language": "python",
   "name": "python3"
  },
  "language_info": {
   "codemirror_mode": {
    "name": "ipython",
    "version": 3
   },
   "file_extension": ".py",
   "mimetype": "text/x-python",
   "name": "python",
   "nbconvert_exporter": "python",
   "pygments_lexer": "ipython3",
   "version": "3.12.9"
  }
 },
 "nbformat": 4,
 "nbformat_minor": 5
}
